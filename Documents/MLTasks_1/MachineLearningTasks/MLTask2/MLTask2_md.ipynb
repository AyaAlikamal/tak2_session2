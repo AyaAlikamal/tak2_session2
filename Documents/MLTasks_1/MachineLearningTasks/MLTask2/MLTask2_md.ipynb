{
 "cells": [
  {
   "cell_type": "code",
   "execution_count": 1,
   "id": "e7d38e81",
   "metadata": {},
   "outputs": [
    {
     "name": "stdout",
     "output_type": "stream",
     "text": [
      "          age       sex  bmi body mass index  average blood pressure  \\\n",
      "0    0.038076  0.050680             0.061696                0.021872   \n",
      "1   -0.001882 -0.044642            -0.051474               -0.026328   \n",
      "2    0.085299  0.050680             0.044451               -0.005671   \n",
      "3   -0.089063 -0.044642            -0.011595               -0.036656   \n",
      "4    0.005383 -0.044642            -0.036385                0.021872   \n",
      "..        ...       ...                  ...                     ...   \n",
      "437  0.041708  0.050680             0.019662                0.059744   \n",
      "438 -0.005515  0.050680            -0.015906               -0.067642   \n",
      "439  0.041708  0.050680            -0.015906                0.017282   \n",
      "440 -0.045472 -0.044642             0.039062                0.001215   \n",
      "441 -0.045472 -0.044642            -0.073030               -0.081414   \n",
      "\n",
      "     total serum cholesterol  low-density lipoproteins  \\\n",
      "0                  -0.044223                 -0.034821   \n",
      "1                  -0.008449                 -0.019163   \n",
      "2                  -0.045599                 -0.034194   \n",
      "3                   0.012191                  0.024991   \n",
      "4                   0.003935                  0.015596   \n",
      "..                       ...                       ...   \n",
      "437                -0.005697                 -0.002566   \n",
      "438                 0.049341                  0.079165   \n",
      "439                -0.037344                 -0.013840   \n",
      "440                 0.016318                  0.015283   \n",
      "441                 0.083740                  0.027809   \n",
      "\n",
      "     high-density lipoproteins  total cholesterol  \\\n",
      "0                    -0.043401          -0.002592   \n",
      "1                     0.074412          -0.039493   \n",
      "2                    -0.032356          -0.002592   \n",
      "3                    -0.036038           0.034309   \n",
      "4                     0.008142          -0.002592   \n",
      "..                         ...                ...   \n",
      "437                  -0.028674          -0.002592   \n",
      "438                  -0.028674           0.034309   \n",
      "439                  -0.024993          -0.011080   \n",
      "440                  -0.028674           0.026560   \n",
      "441                   0.173816          -0.039493   \n",
      "\n",
      "     serum triglycerides levelglu  blood sugar level  disease_progression  \n",
      "0                        0.019908          -0.017646                151.0  \n",
      "1                       -0.068330          -0.092204                 75.0  \n",
      "2                        0.002864          -0.025930                141.0  \n",
      "3                        0.022692          -0.009362                206.0  \n",
      "4                       -0.031991          -0.046641                135.0  \n",
      "..                            ...                ...                  ...  \n",
      "437                      0.031193           0.007207                178.0  \n",
      "438                     -0.018118           0.044485                104.0  \n",
      "439                     -0.046879           0.015491                132.0  \n",
      "440                      0.044528          -0.025930                220.0  \n",
      "441                     -0.004220           0.003064                 57.0  \n",
      "\n",
      "[442 rows x 11 columns]\n"
     ]
    },
    {
     "data": {
      "text/plain": [
       "(442, 11)"
      ]
     },
     "execution_count": 1,
     "metadata": {},
     "output_type": "execute_result"
    }
   ],
   "source": [
    "import numpy as np\n",
    "import pandas as pd\n",
    "import pickle\n",
    "with open ('dataset.pkl','rb')as f:\n",
    " data = pickle.load(f) # taking the data input using pickle.load fn to read it\n",
    "print (data)\n",
    "data.shape #the shape of the data have to be known so we can divid it to 3 parts"
   ]
  },
  {
   "cell_type": "markdown",
   "id": "0fbf167e",
   "metadata": {},
   "source": [
    "In this code the colum called blood sugar level has been taken and mapped from regression type to classification type according to a condition set (maybe the condision is not right but what is importnt is the idea)"
   ]
  },
  {
   "cell_type": "code",
   "execution_count": 2,
   "id": "ad09bdc8",
   "metadata": {},
   "outputs": [
    {
     "name": "stdout",
     "output_type": "stream",
     "text": [
      "442\n"
     ]
    }
   ],
   "source": [
    "NL1=[] #creating a list to take the new labels in it  \n",
    "for row in data['blood sugar level']:\n",
    "    if row <=.034:  # condition may not true (as a medical information)\n",
    "        NL1.append(0)\n",
    "    else:\n",
    "        NL1.append(1)\n",
    "print (len(NL1)) \n",
    "NL1=np.array(NL1) #converting the NL1 from list to array\n",
    "NL1=NL1.reshape(442,1) # reshaping the data in this shape to make fitting process on it \n"
   ]
  },
  {
   "cell_type": "code",
   "execution_count": 3,
   "id": "c41ba843",
   "metadata": {},
   "outputs": [
    {
     "name": "stdout",
     "output_type": "stream",
     "text": [
      "first section (353, 1) (89, 1)\n",
      "second section (353, 1) (89, 1)\n"
     ]
    }
   ],
   "source": [
    "from sklearn.model_selection import train_test_split\n",
    "NL1_train,NL1_test=train_test_split(NL1,test_size=0.2,random_state=43) #seprating the data to validation part with a percentage .2 from the data\n",
    "print (\"first section\",NL1_train.shape,NL1_test.shape)\n",
    "NL1_train,NL1_val=train_test_split(NL1,test_size=0.2,random_state=43)#seprating the data to validation part with a percentage .2 from the data\n",
    "print (\"second section\",NL1_train.shape,NL1_val.shape)"
   ]
  },
  {
   "cell_type": "code",
   "execution_count": 4,
   "id": "b4b696ad",
   "metadata": {},
   "outputs": [
    {
     "name": "stdout",
     "output_type": "stream",
     "text": [
      "train (353, 1)\n",
      "validation (89, 1)\n",
      "test (89, 1)\n"
     ]
    }
   ],
   "source": [
    "NL1_train=NL1_train[:]   # separating the last colum to use it as train , validation ,and test data according to the percentages in the previous code\n",
    "print(\"train\",NL1_train.shape)\n",
    "NL1_val=NL1_val[:]\n",
    "print(\"validation\",NL1_val.shape)\n",
    "NL1_test=NL1_test[:]\n",
    "print(\"test\",NL1_test.shape)"
   ]
  },
  {
   "cell_type": "code",
   "execution_count": 5,
   "id": "8850a924",
   "metadata": {},
   "outputs": [
    {
     "name": "stdout",
     "output_type": "stream",
     "text": [
      "[1, 0, 1, 1, 1, 0, 1, 0, 0, 1, 0, 0, 1, 1, 0, 1, 1, 1, 0, 1, 0, 0, 0, 1, 1, 1, 1, 0, 0, 1, 0, 0, 1, 0, 0, 0, 1, 1, 1, 0, 0, 0, 0, 0, 1, 0, 1, 1, 0, 1, 1, 1, 0, 0, 1, 0, 0, 0, 1, 1, 0, 1, 0, 0, 0, 1, 1, 0, 1, 1, 0, 1, 1, 0, 0, 0, 1, 1, 1, 0, 1, 0, 0, 1, 0, 1, 0, 0, 0, 0, 0, 1, 0, 0, 0, 1, 1, 1, 0, 0, 0, 0, 1, 1, 0, 0, 0, 1, 1, 0, 0, 0, 1, 1, 1, 1, 1, 1, 1, 1, 1, 1, 1, 0, 0, 1, 0, 0, 0, 1, 1, 1, 0, 0, 0, 1, 0, 1, 1, 1, 0, 1, 1, 0, 1, 1, 1, 0, 0, 0, 1, 0, 1, 0, 1, 1, 0, 0, 0, 1, 0, 1, 1, 0, 1, 0, 0, 1, 1, 1, 0, 0, 1, 0, 1, 0, 1, 1, 0, 1, 0, 0, 1, 1, 1, 0, 1, 1, 1, 0, 1, 1, 0, 0, 0, 0, 0, 0, 1, 0, 1, 0, 1, 1, 1, 0, 1, 1, 1, 0, 1, 0, 0, 0, 0, 1, 1, 1, 1, 1, 0, 0, 1, 1, 0, 1, 0, 0, 1, 0, 1, 1, 1, 0, 1, 0, 0, 0, 1, 1, 1, 1, 0, 0, 1, 0, 0, 0, 1, 1, 1, 1, 0, 1, 1, 1, 1, 0, 0, 0, 0, 0, 1, 0, 1, 0, 0, 0, 1, 0, 1, 0, 1, 1, 0, 0, 1, 0, 0, 1, 1, 0, 1, 1, 1, 1, 0, 1, 0, 0, 1, 1, 0, 1, 0, 0, 0, 0, 0, 0, 1, 0, 1, 1, 1, 0, 0, 1, 0, 1, 0, 1, 1, 1, 1, 0, 1, 1, 0, 1, 0, 1, 1, 1, 1, 1, 0, 1, 0, 1, 1, 1, 1, 1, 0, 0, 1, 0, 1, 0, 1, 1, 1, 0, 1, 1, 1, 0, 1, 0, 1, 0, 0, 0, 1, 0, 0, 1, 0, 1, 1, 1, 1, 0, 1, 1, 1, 1, 0, 1, 0, 1, 0, 1, 1, 1, 0, 1, 1, 0, 0, 0, 0, 0, 0, 1, 0, 1, 0, 0, 1, 0, 0, 0, 1, 1, 0, 1, 1, 1, 1, 0, 1, 1, 1, 1, 0, 1, 1, 1, 1, 1, 1, 0, 0, 1, 1, 0, 0, 0, 1, 1, 1, 0, 0, 1, 0, 0, 1, 0, 1, 0, 1, 0, 0, 0, 0, 1, 0, 0, 1, 0]\n"
     ]
    }
   ],
   "source": [
    "NL2=[] #creating a list to take the new labels in it \n",
    "for row in data['disease_progression']:\n",
    "    if row <=134:   # condition may not true (as a medical information)\n",
    "        NL2.append(0)\n",
    "    else:\n",
    "        NL2.append(1)\n",
    "print (NL2) \n",
    "NL2=np.array(NL2) #converting the NL1 from list to array\n",
    "NL2=NL2.reshape(442,1) # reshaping the data in this shape to make fitting process on it "
   ]
  },
  {
   "cell_type": "code",
   "execution_count": 6,
   "id": "3582d26a",
   "metadata": {},
   "outputs": [
    {
     "name": "stdout",
     "output_type": "stream",
     "text": [
      "first section (353, 1) (89, 1)\n",
      "second section (353, 1) (89, 1)\n"
     ]
    }
   ],
   "source": [
    "from sklearn.model_selection import train_test_split\n",
    "NL2_train,NL2_test=train_test_split(NL2,test_size=0.2,random_state=43) #seprating the data to validation part with a percentage .2 from the data\n",
    "print (\"first section\",NL2_train.shape,NL2_test.shape)\n",
    "NL2_train,NL2_val=train_test_split(NL1,test_size=0.2,random_state=43)#seprating the data to validation part with a percentage .2 from the data\n",
    "print (\"second section\",NL2_train.shape,NL2_val.shape)"
   ]
  },
  {
   "cell_type": "code",
   "execution_count": 7,
   "id": "debd1972",
   "metadata": {},
   "outputs": [
    {
     "name": "stdout",
     "output_type": "stream",
     "text": [
      "train (353, 1)\n",
      "validation (89, 1)\n",
      "test (89, 1)\n"
     ]
    }
   ],
   "source": [
    "NL2_train=NL2_train[:]   # separating the last colum to use it as train , validation ,and test data according to the percentages in the previous code\n",
    "print(\"train\",NL2_train.shape)\n",
    "NL2_val=NL2_val[:]\n",
    "print(\"validation\",NL1_val.shape)\n",
    "NL2_test=NL2_test[:]\n",
    "print(\"test\",NL2_test.shape)"
   ]
  },
  {
   "cell_type": "markdown",
   "id": "37893015",
   "metadata": {},
   "source": [
    "Decisio Tree \n",
    "In this model a comparison between the NL1 and NL2 is made on them as we are treating with data and label "
   ]
  },
  {
   "cell_type": "code",
   "execution_count": 8,
   "id": "60d9653d",
   "metadata": {},
   "outputs": [],
   "source": [
    "from sklearn import tree\n",
    "classfd= tree.DecisionTreeClassifier(max_depth=1,random_state=43) #choosing the depth of the tree to know the number of conditions\n",
    "classfd=classfd.fit(NL1_train,NL2_train) # fitting the train data with each other"
   ]
  },
  {
   "cell_type": "code",
   "execution_count": 9,
   "id": "28d69c8e",
   "metadata": {},
   "outputs": [
    {
     "name": "stdout",
     "output_type": "stream",
     "text": [
      "predicted model\n",
      " [0 0 0 1 0 0 0 0 0 1 0 1 0 0 0 0 0 0 1 0 1 0 1 0 0 0 1 0 0 0 0 0 0 0 0 1 0\n",
      " 0 0 0 0 1 0 0 0 0 0 1 0 0 1 1 0 0 0 0 0 0 1 1 1 0 0 0 1 0 0 0 0 1 0 0 0 0\n",
      " 0 0 0 1 0 0 0 1 0 1 1 1 0 1 0]\n",
      "[[0]\n",
      " [0]\n",
      " [0]\n",
      " [1]\n",
      " [0]\n",
      " [0]\n",
      " [0]\n",
      " [0]\n",
      " [0]\n",
      " [1]\n",
      " [0]\n",
      " [1]\n",
      " [0]\n",
      " [0]\n",
      " [0]\n",
      " [0]\n",
      " [0]\n",
      " [0]\n",
      " [1]\n",
      " [0]\n",
      " [1]\n",
      " [0]\n",
      " [1]\n",
      " [0]\n",
      " [0]\n",
      " [0]\n",
      " [1]\n",
      " [0]\n",
      " [0]\n",
      " [0]\n",
      " [0]\n",
      " [0]\n",
      " [0]\n",
      " [0]\n",
      " [0]\n",
      " [1]\n",
      " [0]\n",
      " [0]\n",
      " [0]\n",
      " [0]\n",
      " [0]\n",
      " [1]\n",
      " [0]\n",
      " [0]\n",
      " [0]\n",
      " [0]\n",
      " [0]\n",
      " [1]\n",
      " [0]\n",
      " [0]\n",
      " [1]\n",
      " [1]\n",
      " [0]\n",
      " [0]\n",
      " [0]\n",
      " [0]\n",
      " [0]\n",
      " [0]\n",
      " [1]\n",
      " [1]\n",
      " [1]\n",
      " [0]\n",
      " [0]\n",
      " [0]\n",
      " [1]\n",
      " [0]\n",
      " [0]\n",
      " [0]\n",
      " [0]\n",
      " [1]\n",
      " [0]\n",
      " [0]\n",
      " [0]\n",
      " [0]\n",
      " [0]\n",
      " [0]\n",
      " [0]\n",
      " [1]\n",
      " [0]\n",
      " [0]\n",
      " [0]\n",
      " [1]\n",
      " [0]\n",
      " [1]\n",
      " [1]\n",
      " [1]\n",
      " [0]\n",
      " [1]\n",
      " [0]]\n"
     ]
    }
   ],
   "source": [
    "y_pred=classfd.predict(NL1_val) #assigning NL1_val value of validation to y_pred\n",
    "print(\"predicted model\\n\",y_pred)\n",
    "print(NL1_val)"
   ]
  },
  {
   "cell_type": "code",
   "execution_count": 10,
   "id": "1f2ca4b1",
   "metadata": {},
   "outputs": [
    {
     "name": "stdout",
     "output_type": "stream",
     "text": [
      "disease_progression\n",
      " [[0]\n",
      " [0]\n",
      " [0]\n",
      " [1]\n",
      " [0]\n",
      " [0]\n",
      " [0]\n",
      " [0]\n",
      " [0]\n",
      " [1]\n",
      " [0]\n",
      " [1]\n",
      " [0]\n",
      " [0]\n",
      " [0]\n",
      " [0]\n",
      " [0]\n",
      " [0]\n",
      " [1]\n",
      " [0]\n",
      " [1]\n",
      " [0]\n",
      " [1]\n",
      " [0]\n",
      " [0]\n",
      " [0]\n",
      " [1]\n",
      " [0]\n",
      " [0]\n",
      " [0]\n",
      " [0]\n",
      " [0]\n",
      " [0]\n",
      " [0]\n",
      " [0]\n",
      " [1]\n",
      " [0]\n",
      " [0]\n",
      " [0]\n",
      " [0]\n",
      " [0]\n",
      " [1]\n",
      " [0]\n",
      " [0]\n",
      " [0]\n",
      " [0]\n",
      " [0]\n",
      " [1]\n",
      " [0]\n",
      " [0]\n",
      " [1]\n",
      " [1]\n",
      " [0]\n",
      " [0]\n",
      " [0]\n",
      " [0]\n",
      " [0]\n",
      " [0]\n",
      " [1]\n",
      " [1]\n",
      " [1]\n",
      " [0]\n",
      " [0]\n",
      " [0]\n",
      " [1]\n",
      " [0]\n",
      " [0]\n",
      " [0]\n",
      " [0]\n",
      " [1]\n",
      " [0]\n",
      " [0]\n",
      " [0]\n",
      " [0]\n",
      " [0]\n",
      " [0]\n",
      " [0]\n",
      " [1]\n",
      " [0]\n",
      " [0]\n",
      " [0]\n",
      " [1]\n",
      " [0]\n",
      " [1]\n",
      " [1]\n",
      " [1]\n",
      " [0]\n",
      " [1]\n",
      " [0]]\n"
     ]
    }
   ],
   "source": [
    "print(\"disease_progression\\n\",NL2_val)"
   ]
  },
  {
   "cell_type": "code",
   "execution_count": 11,
   "id": "8ac47d1b",
   "metadata": {},
   "outputs": [
    {
     "data": {
      "text/plain": [
       "1.0"
      ]
     },
     "execution_count": 11,
     "metadata": {},
     "output_type": "execute_result"
    }
   ],
   "source": [
    "from sklearn.metrics import accuracy_score\n",
    "accuracy_score(NL2_val,y_pred) "
   ]
  },
  {
   "cell_type": "code",
   "execution_count": 12,
   "id": "68e8b67e",
   "metadata": {},
   "outputs": [
    {
     "data": {
      "text/plain": [
       "0.6853932584269663"
      ]
     },
     "execution_count": 12,
     "metadata": {},
     "output_type": "execute_result"
    }
   ],
   "source": [
    "y_pred=classfd.predict(NL1_test) # assigning ypred to NL1_test \n",
    "accuracy_score(NL2_test,y_pred)"
   ]
  },
  {
   "cell_type": "markdown",
   "id": "928bd204",
   "metadata": {},
   "source": [
    "#KNN Model \n",
    "In this model a comparison between the NL1 and NL2 is made on them as we are treating with data and label "
   ]
  },
  {
   "cell_type": "code",
   "execution_count": 13,
   "id": "d6501e8f",
   "metadata": {},
   "outputs": [
    {
     "data": {
      "text/plain": [
       "9.433981132056603"
      ]
     },
     "execution_count": 13,
     "metadata": {},
     "output_type": "execute_result"
    }
   ],
   "source": [
    "import math\n",
    "math.sqrt(len(NL1_test)) #this number helps us to know the number of neighbours"
   ]
  },
  {
   "cell_type": "code",
   "execution_count": 14,
   "id": "eb781349",
   "metadata": {},
   "outputs": [],
   "source": [
    "from sklearn.neighbors import KNeighborsClassifier\n",
    "classfd1= KNeighborsClassifier(n_neighbors=7,p=2,metric=\"euclidear\") "
   ]
  },
  {
   "cell_type": "code",
   "execution_count": 15,
   "id": "d3f8da22",
   "metadata": {},
   "outputs": [
    {
     "name": "stdout",
     "output_type": "stream",
     "text": [
      "predicted model\n",
      " [0 0 0 1 0 0 0 0 0 1 0 1 0 0 0 0 0 0 1 0 1 0 1 0 0 0 1 0 0 0 0 0 0 0 0 1 0\n",
      " 0 0 0 0 1 0 0 0 0 0 1 0 0 1 1 0 0 0 0 0 0 1 1 1 0 0 0 1 0 0 0 0 1 0 0 0 0\n",
      " 0 0 0 1 0 0 0 1 0 1 1 1 0 1 0]\n",
      "[[0]\n",
      " [0]\n",
      " [0]\n",
      " [1]\n",
      " [0]\n",
      " [0]\n",
      " [0]\n",
      " [0]\n",
      " [0]\n",
      " [1]\n",
      " [0]\n",
      " [1]\n",
      " [0]\n",
      " [0]\n",
      " [0]\n",
      " [0]\n",
      " [0]\n",
      " [0]\n",
      " [1]\n",
      " [0]\n",
      " [1]\n",
      " [0]\n",
      " [1]\n",
      " [0]\n",
      " [0]\n",
      " [0]\n",
      " [1]\n",
      " [0]\n",
      " [0]\n",
      " [0]\n",
      " [0]\n",
      " [0]\n",
      " [0]\n",
      " [0]\n",
      " [0]\n",
      " [1]\n",
      " [0]\n",
      " [0]\n",
      " [0]\n",
      " [0]\n",
      " [0]\n",
      " [1]\n",
      " [0]\n",
      " [0]\n",
      " [0]\n",
      " [0]\n",
      " [0]\n",
      " [1]\n",
      " [0]\n",
      " [0]\n",
      " [1]\n",
      " [1]\n",
      " [0]\n",
      " [0]\n",
      " [0]\n",
      " [0]\n",
      " [0]\n",
      " [0]\n",
      " [1]\n",
      " [1]\n",
      " [1]\n",
      " [0]\n",
      " [0]\n",
      " [0]\n",
      " [1]\n",
      " [0]\n",
      " [0]\n",
      " [0]\n",
      " [0]\n",
      " [1]\n",
      " [0]\n",
      " [0]\n",
      " [0]\n",
      " [0]\n",
      " [0]\n",
      " [0]\n",
      " [0]\n",
      " [1]\n",
      " [0]\n",
      " [0]\n",
      " [0]\n",
      " [1]\n",
      " [0]\n",
      " [1]\n",
      " [1]\n",
      " [1]\n",
      " [0]\n",
      " [1]\n",
      " [0]]\n"
     ]
    }
   ],
   "source": [
    "y_pred=classfd.predict(NL1_val) #assigning NL1_val value of validation to y_pred\n",
    "print(\"predicted model\\n\",y_pred)\n",
    "print(NL1_val)"
   ]
  },
  {
   "cell_type": "code",
   "execution_count": 16,
   "id": "5196a81d",
   "metadata": {},
   "outputs": [
    {
     "name": "stdout",
     "output_type": "stream",
     "text": [
      "[[41  3]\n",
      " [25 20]]\n"
     ]
    }
   ],
   "source": [
    "from sklearn.metrics import confusion_matrix\n",
    "cm=confusion_matrix(NL2_test,y_pred)  #confusion the matrix of NL2_test with y_predict\n",
    "print (cm) "
   ]
  },
  {
   "cell_type": "code",
   "execution_count": 17,
   "id": "92410dd3",
   "metadata": {},
   "outputs": [
    {
     "name": "stdout",
     "output_type": "stream",
     "text": [
      "0.6853932584269663\n"
     ]
    },
    {
     "name": "stderr",
     "output_type": "stream",
     "text": [
      "C:\\Users\\DELL\\AppData\\Local\\Packages\\PythonSoftwareFoundation.Python.3.9_qbz5n2kfra8p0\\LocalCache\\local-packages\\Python39\\site-packages\\sklearn\\metrics\\_classification.py:1386: UserWarning: Note that pos_label (set to 'positiv') is ignored when average != 'binary' (got 'micro'). You may use labels=[pos_label] to specify a single positive class.\n",
      "  warnings.warn(\n"
     ]
    }
   ],
   "source": [
    "from sklearn.metrics import f1_score\n",
    "print(f1_score(NL2_test,y_pred,pos_label=\"positiv\",average=\"micro\")) #calculating the score of accuracy of this model"
   ]
  },
  {
   "cell_type": "code",
   "execution_count": 18,
   "id": "c15e191b",
   "metadata": {},
   "outputs": [
    {
     "name": "stdout",
     "output_type": "stream",
     "text": [
      "0.6853932584269663\n"
     ]
    }
   ],
   "source": [
    "from sklearn.metrics import accuracy_score\n",
    "print(accuracy_score(NL2_test,y_pred))"
   ]
  },
  {
   "cell_type": "markdown",
   "id": "c6090737",
   "metadata": {},
   "source": [
    "Linear Regression \n",
    "In this model a comparison between the NL1 and NL2 is made on them as we are treating with data and label "
   ]
  },
  {
   "cell_type": "code",
   "execution_count": 19,
   "id": "99c81082",
   "metadata": {},
   "outputs": [
    {
     "name": "stdout",
     "output_type": "stream",
     "text": [
      "Slope: [[1.]]\n",
      "Intercept: [3.33066907e-16]\n",
      "MSE: 0.3146067415730335\n",
      "Root mean squared error:  0.5608981561505025\n",
      "R2 score:  -0.2585858585858576\n"
     ]
    }
   ],
   "source": [
    "from sklearn import linear_model\n",
    "from sklearn.linear_model import LinearRegression\n",
    "from sklearn.metrics import mean_squared_error, r2_score\n",
    "regression_model = LinearRegression()\n",
    "regression_model.fit(NL1_train, NL2_train) # Fit the data(train the model)\n",
    "y_predicted = regression_model.predict(NL1_test) #assigning NL1_test value of validation to y_predicted\n",
    "mse=mean_squared_error( NL2_test,y_predicted) # model evaluation\n",
    "rmse = np.sqrt(mean_squared_error(NL2_test, y_predicted))\n",
    "r2 = r2_score(NL2_test, y_predicted)  #calculating the score of accuracy of this model\n",
    "print('Slope:' ,regression_model.coef_)\n",
    "print('Intercept:', regression_model.intercept_)\n",
    "print('MSE:',mse)\n",
    "print('Root mean squared error: ', rmse)\n",
    "print('R2 score: ', r2)"
   ]
  }
 ],
 "metadata": {
  "kernelspec": {
   "display_name": "Python 3.9.13 64-bit (microsoft store)",
   "language": "python",
   "name": "python3"
  },
  "language_info": {
   "codemirror_mode": {
    "name": "ipython",
    "version": 3
   },
   "file_extension": ".py",
   "mimetype": "text/x-python",
   "name": "python",
   "nbconvert_exporter": "python",
   "pygments_lexer": "ipython3",
   "version": "3.9.13"
  },
  "vscode": {
   "interpreter": {
    "hash": "970a2a4939579a4c22872227820a264ec023ee5692739211cbaca24386397975"
   }
  }
 },
 "nbformat": 4,
 "nbformat_minor": 5
}
