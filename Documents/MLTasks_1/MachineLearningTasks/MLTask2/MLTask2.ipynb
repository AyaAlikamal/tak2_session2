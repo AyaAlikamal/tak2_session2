{
 "cells": [
  {
   "cell_type": "code",
   "execution_count": 1,
   "id": "d0f450a2",
   "metadata": {},
   "outputs": [
    {
     "name": "stdout",
     "output_type": "stream",
     "text": [
      "          age       sex  bmi body mass index  average blood pressure  \\\n",
      "0    0.038076  0.050680             0.061696                0.021872   \n",
      "1   -0.001882 -0.044642            -0.051474               -0.026328   \n",
      "2    0.085299  0.050680             0.044451               -0.005671   \n",
      "3   -0.089063 -0.044642            -0.011595               -0.036656   \n",
      "4    0.005383 -0.044642            -0.036385                0.021872   \n",
      "..        ...       ...                  ...                     ...   \n",
      "437  0.041708  0.050680             0.019662                0.059744   \n",
      "438 -0.005515  0.050680            -0.015906               -0.067642   \n",
      "439  0.041708  0.050680            -0.015906                0.017282   \n",
      "440 -0.045472 -0.044642             0.039062                0.001215   \n",
      "441 -0.045472 -0.044642            -0.073030               -0.081414   \n",
      "\n",
      "     total serum cholesterol  low-density lipoproteins  \\\n",
      "0                  -0.044223                 -0.034821   \n",
      "1                  -0.008449                 -0.019163   \n",
      "2                  -0.045599                 -0.034194   \n",
      "3                   0.012191                  0.024991   \n",
      "4                   0.003935                  0.015596   \n",
      "..                       ...                       ...   \n",
      "437                -0.005697                 -0.002566   \n",
      "438                 0.049341                  0.079165   \n",
      "439                -0.037344                 -0.013840   \n",
      "440                 0.016318                  0.015283   \n",
      "441                 0.083740                  0.027809   \n",
      "\n",
      "     high-density lipoproteins  total cholesterol  \\\n",
      "0                    -0.043401          -0.002592   \n",
      "1                     0.074412          -0.039493   \n",
      "2                    -0.032356          -0.002592   \n",
      "3                    -0.036038           0.034309   \n",
      "4                     0.008142          -0.002592   \n",
      "..                         ...                ...   \n",
      "437                  -0.028674          -0.002592   \n",
      "438                  -0.028674           0.034309   \n",
      "439                  -0.024993          -0.011080   \n",
      "440                  -0.028674           0.026560   \n",
      "441                   0.173816          -0.039493   \n",
      "\n",
      "     serum triglycerides levelglu  blood sugar level  disease_progression  \n",
      "0                        0.019908          -0.017646                151.0  \n",
      "1                       -0.068330          -0.092204                 75.0  \n",
      "2                        0.002864          -0.025930                141.0  \n",
      "3                        0.022692          -0.009362                206.0  \n",
      "4                       -0.031991          -0.046641                135.0  \n",
      "..                            ...                ...                  ...  \n",
      "437                      0.031193           0.007207                178.0  \n",
      "438                     -0.018118           0.044485                104.0  \n",
      "439                     -0.046879           0.015491                132.0  \n",
      "440                      0.044528          -0.025930                220.0  \n",
      "441                     -0.004220           0.003064                 57.0  \n",
      "\n",
      "[442 rows x 11 columns]\n"
     ]
    },
    {
     "data": {
      "text/plain": [
       "(442, 11)"
      ]
     },
     "execution_count": 1,
     "metadata": {},
     "output_type": "execute_result"
    }
   ],
   "source": [
    "import numpy as np\n",
    "import pandas as pd\n",
    "import pickle\n",
    "with open ('dataset.pkl','rb')as f:\n",
    " data = pickle.load(f) # taking the data input using pickle.load fn to read it\n",
    "print (data)\n",
    "data.shape #the shape of the data have to be known so we can divid it to 3 parts"
   ]
  },
  {
   "cell_type": "code",
   "execution_count": 2,
   "id": "47fdb7ac",
   "metadata": {},
   "outputs": [
    {
     "name": "stdout",
     "output_type": "stream",
     "text": [
      "first section (353, 11) (89, 11)\n",
      "second section (353, 11) (89, 11)\n"
     ]
    }
   ],
   "source": [
    "from sklearn.model_selection import train_test_split\n",
    "train,test=train_test_split(data,test_size=0.2,random_state=43) #seprating the data to validation part with a percentage .2 from the data\n",
    "print (\"first section\",train.shape,test.shape)\n",
    "train,val=train_test_split(data,test_size=0.2,random_state=43)#seprating the data to validation part with a percentage .2 from the data\n",
    "print (\"second section\",train.shape,val.shape)"
   ]
  },
  {
   "cell_type": "code",
   "execution_count": 3,
   "id": "bfb89ab8",
   "metadata": {},
   "outputs": [
    {
     "name": "stdout",
     "output_type": "stream",
     "text": [
      "train (353, 10) (353, 1)\n",
      "validation (89, 10) (89, 1)\n",
      "test (89, 10) (89, 1)\n"
     ]
    }
   ],
   "source": [
    "x_train=train.iloc[:,0:10]  # separating the last colum to use it as train , validation ,and test data according to the percentages in the previous code \n",
    "y_train=train.iloc[:,10:] \n",
    "print(\"train\",x_train.shape,y_train.shape)\n",
    "x_val=val.iloc[:,0:10]\n",
    "y_val=val.iloc[:,10:]\n",
    "print(\"validation\",x_val.shape,y_val.shape)\n",
    "x_test=test.iloc[:,0:10]\n",
    "y_test=test.iloc[:,10:]\n",
    "print(\"test\",x_test.shape,y_test.shape)"
   ]
  },
  {
   "cell_type": "markdown",
   "id": "2bdb4723",
   "metadata": {},
   "source": [
    "Decision Tree Model\n",
    "we can notic that whatever the depth of the decision tree model is there is no accuracy because the label is in the type of regression not a classification which use another way to calculate the accuracy of the model "
   ]
  },
  {
   "cell_type": "code",
   "execution_count": 4,
   "id": "9161112c",
   "metadata": {},
   "outputs": [],
   "source": [
    "from sklearn import tree\n",
    "classfd= tree.DecisionTreeClassifier(max_depth=1,random_state=43) #choosing the depth of the tree to know the number of conditions\n",
    "classfd=classfd.fit(x_train,y_train) # fitting the train data with each other"
   ]
  },
  {
   "cell_type": "code",
   "execution_count": 5,
   "id": "dd4a21f6",
   "metadata": {},
   "outputs": [
    {
     "name": "stdout",
     "output_type": "stream",
     "text": [
      "predicted model\n",
      " [200. 200. 220. 220. 220. 200. 200. 220. 200. 220. 200. 220. 200. 200.\n",
      " 200. 220. 200. 220. 220. 220. 220. 200. 200. 220. 200. 200. 220. 200.\n",
      " 200. 220. 220. 200. 200. 200. 200. 200. 200. 200. 200. 200. 200. 200.\n",
      " 200. 200. 220. 200. 200. 220. 200. 200. 220. 200. 220. 200. 200. 200.\n",
      " 200. 200. 200. 220. 220. 200. 200. 200. 200. 220. 200. 200. 200. 200.\n",
      " 200. 200. 200. 200. 200. 200. 200. 220. 200. 220. 200. 200. 220. 220.\n",
      " 200. 220. 200. 200. 200.]\n",
      "          age       sex  bmi body mass index  average blood pressure  \\\n",
      "64   0.067136  0.050680            -0.025607               -0.040099   \n",
      "196 -0.023677 -0.044642            -0.046085               -0.033214   \n",
      "142  0.041708  0.050680             0.012117                0.039087   \n",
      "390  0.009016  0.050680             0.069241                0.059744   \n",
      "353 -0.052738 -0.044642            -0.055785               -0.036656   \n",
      "..        ...       ...                  ...                     ...   \n",
      "402  0.110727  0.050680            -0.033151               -0.022885   \n",
      "319  0.019913 -0.044642             0.004572                0.045972   \n",
      "3   -0.089063 -0.044642            -0.011595               -0.036656   \n",
      "364  0.001751  0.050680            -0.006206               -0.019442   \n",
      "50   0.034443 -0.044642            -0.007284                0.014987   \n",
      "\n",
      "     total serum cholesterol  low-density lipoproteins  \\\n",
      "64                 -0.063487                 -0.059873   \n",
      "196                 0.032830                  0.036264   \n",
      "142                 0.054845                  0.044406   \n",
      "390                 0.017694                 -0.023234   \n",
      "353                 0.089244                 -0.003193   \n",
      "..                       ...                       ...   \n",
      "402                -0.004321                  0.020293   \n",
      "319                -0.018080                 -0.054549   \n",
      "3                   0.012191                  0.024991   \n",
      "364                -0.009825                  0.004949   \n",
      "50                 -0.044223                 -0.037326   \n",
      "\n",
      "     high-density lipoproteins  total cholesterol  \\\n",
      "64                   -0.002903          -0.039493   \n",
      "196                   0.037595          -0.002592   \n",
      "142                   0.004460          -0.002592   \n",
      "390                  -0.047082           0.034309   \n",
      "353                   0.008142           0.034309   \n",
      "..                         ...                ...   \n",
      "402                  -0.061809           0.071210   \n",
      "319                   0.063367          -0.039493   \n",
      "3                    -0.036038           0.034309   \n",
      "364                  -0.039719           0.034309   \n",
      "50                   -0.002903          -0.039493   \n",
      "\n",
      "     serum triglycerides levelglu  blood sugar level  \n",
      "64                      -0.019197           0.011349  \n",
      "196                     -0.033249           0.011349  \n",
      "142                      0.045601          -0.001078  \n",
      "390                      0.103292           0.073480  \n",
      "353                      0.132373           0.003064  \n",
      "..                            ...                ...  \n",
      "402                      0.015567           0.044485  \n",
      "319                      0.028661           0.061054  \n",
      "3                        0.022692          -0.009362  \n",
      "364                      0.014823           0.098333  \n",
      "50                      -0.021394           0.007207  \n",
      "\n",
      "[89 rows x 10 columns]\n"
     ]
    }
   ],
   "source": [
    "y_pred=classfd.predict(x_val) #assigning x_vathe value of validation to y_pred\n",
    "print(\"predicted model\\n\",y_pred)\n",
    "print(x_val)"
   ]
  },
  {
   "cell_type": "code",
   "execution_count": 6,
   "id": "f8f929ef",
   "metadata": {},
   "outputs": [
    {
     "name": "stdout",
     "output_type": "stream",
     "text": [
      "disease_progression\n",
      "      disease_progression\n",
      "64                  71.0\n",
      "196                 72.0\n",
      "142                235.0\n",
      "390                277.0\n",
      "353                109.0\n",
      "..                   ...\n",
      "402                168.0\n",
      "319                191.0\n",
      "3                  206.0\n",
      "364                262.0\n",
      "50                 155.0\n",
      "\n",
      "[89 rows x 1 columns]\n"
     ]
    }
   ],
   "source": [
    "print(\"disease_progression\\n\",y_val)"
   ]
  },
  {
   "cell_type": "code",
   "execution_count": 7,
   "id": "7ed9025e",
   "metadata": {},
   "outputs": [
    {
     "data": {
      "text/plain": [
       "0.011235955056179775"
      ]
     },
     "execution_count": 7,
     "metadata": {},
     "output_type": "execute_result"
    }
   ],
   "source": [
    "from sklearn.metrics import accuracy_score\n",
    "accuracy_score(y_val,y_pred) # calculating the accuracy score between the validation value of y and x "
   ]
  },
  {
   "cell_type": "code",
   "execution_count": 8,
   "id": "8a171304",
   "metadata": {},
   "outputs": [
    {
     "data": {
      "text/plain": [
       "0.011235955056179775"
      ]
     },
     "execution_count": 8,
     "metadata": {},
     "output_type": "execute_result"
    }
   ],
   "source": [
    "y_pred=classfd.predict(x_test) # assigning ypred to x_test \n",
    "accuracy_score(y_test,y_pred) #calculating the accuracy score beyween the test value of x and y to test the accuracy of model"
   ]
  },
  {
   "cell_type": "markdown",
   "id": "ca16eacb",
   "metadata": {},
   "source": [
    " Another Way to read this data\n",
    "the result is negative because the model is not the best one"
   ]
  },
  {
   "cell_type": "code",
   "execution_count": 9,
   "id": "e4f3a34f",
   "metadata": {},
   "outputs": [
    {
     "name": "stdout",
     "output_type": "stream",
     "text": [
      "R2 score = -0.39506972671100815\n"
     ]
    }
   ],
   "source": [
    "import sklearn.metrics as sm\n",
    "print(\"R2 score =\",sm.r2_score(y_test, y_pred)) # using r2 to calculate the accuracy of the model as this data is in type regression the value is nigative as the model is not the best one"
   ]
  },
  {
   "cell_type": "code",
   "execution_count": 10,
   "id": "d287a0f0",
   "metadata": {},
   "outputs": [
    {
     "data": {
      "text/plain": [
       "0.0932316674024295"
      ]
     },
     "execution_count": 10,
     "metadata": {},
     "output_type": "execute_result"
    }
   ],
   "source": [
    "from sklearn.metrics import explained_variance_score\n",
    "explained_variance_score(y_test, y_pred) "
   ]
  },
  {
   "cell_type": "code",
   "execution_count": 11,
   "id": "3161c519",
   "metadata": {},
   "outputs": [
    {
     "data": {
      "text/plain": [
       "8706.056179775282"
      ]
     },
     "execution_count": 11,
     "metadata": {},
     "output_type": "execute_result"
    }
   ],
   "source": [
    "from sklearn.metrics import mean_squared_error\n",
    "mean_squared_error(y_test, y_pred)"
   ]
  },
  {
   "cell_type": "markdown",
   "id": "bda79aaa",
   "metadata": {},
   "source": [
    "#KNN Model\n",
    "increasing the number of neighbors did not affect on the accuracy as it still equal zero because the label is in the type of regression not a classification which use another way to calculate the accuracy of the model "
   ]
  },
  {
   "cell_type": "code",
   "execution_count": 12,
   "id": "cbc7f50d",
   "metadata": {},
   "outputs": [
    {
     "data": {
      "text/plain": [
       "9.433981132056603"
      ]
     },
     "execution_count": 12,
     "metadata": {},
     "output_type": "execute_result"
    }
   ],
   "source": [
    "import math\n",
    "math.sqrt(len(y_test)) #this number helps us to know the number of neighbours"
   ]
  },
  {
   "cell_type": "code",
   "execution_count": 13,
   "id": "931d4e53",
   "metadata": {},
   "outputs": [],
   "source": [
    "from sklearn.neighbors import KNeighborsClassifier\n",
    "classfd1= KNeighborsClassifier(n_neighbors=10,p=2,metric=\"euclidear\") # appling the KNN model"
   ]
  },
  {
   "cell_type": "code",
   "execution_count": 14,
   "id": "213ceb7c",
   "metadata": {},
   "outputs": [
    {
     "name": "stdout",
     "output_type": "stream",
     "text": [
      "predicted model\n",
      " [200. 200. 220. 220. 220. 200. 200. 220. 200. 220. 200. 220. 200. 200.\n",
      " 200. 220. 200. 220. 220. 220. 220. 200. 200. 220. 200. 200. 220. 200.\n",
      " 200. 220. 220. 200. 200. 200. 200. 200. 200. 200. 200. 200. 200. 200.\n",
      " 200. 200. 220. 200. 200. 220. 200. 200. 220. 200. 220. 200. 200. 200.\n",
      " 200. 200. 200. 220. 220. 200. 200. 200. 200. 220. 200. 200. 200. 200.\n",
      " 200. 200. 200. 200. 200. 200. 200. 220. 200. 220. 200. 200. 220. 220.\n",
      " 200. 220. 200. 200. 200.]\n",
      "          age       sex  bmi body mass index  average blood pressure  \\\n",
      "64   0.067136  0.050680            -0.025607               -0.040099   \n",
      "196 -0.023677 -0.044642            -0.046085               -0.033214   \n",
      "142  0.041708  0.050680             0.012117                0.039087   \n",
      "390  0.009016  0.050680             0.069241                0.059744   \n",
      "353 -0.052738 -0.044642            -0.055785               -0.036656   \n",
      "..        ...       ...                  ...                     ...   \n",
      "402  0.110727  0.050680            -0.033151               -0.022885   \n",
      "319  0.019913 -0.044642             0.004572                0.045972   \n",
      "3   -0.089063 -0.044642            -0.011595               -0.036656   \n",
      "364  0.001751  0.050680            -0.006206               -0.019442   \n",
      "50   0.034443 -0.044642            -0.007284                0.014987   \n",
      "\n",
      "     total serum cholesterol  low-density lipoproteins  \\\n",
      "64                 -0.063487                 -0.059873   \n",
      "196                 0.032830                  0.036264   \n",
      "142                 0.054845                  0.044406   \n",
      "390                 0.017694                 -0.023234   \n",
      "353                 0.089244                 -0.003193   \n",
      "..                       ...                       ...   \n",
      "402                -0.004321                  0.020293   \n",
      "319                -0.018080                 -0.054549   \n",
      "3                   0.012191                  0.024991   \n",
      "364                -0.009825                  0.004949   \n",
      "50                 -0.044223                 -0.037326   \n",
      "\n",
      "     high-density lipoproteins  total cholesterol  \\\n",
      "64                   -0.002903          -0.039493   \n",
      "196                   0.037595          -0.002592   \n",
      "142                   0.004460          -0.002592   \n",
      "390                  -0.047082           0.034309   \n",
      "353                   0.008142           0.034309   \n",
      "..                         ...                ...   \n",
      "402                  -0.061809           0.071210   \n",
      "319                   0.063367          -0.039493   \n",
      "3                    -0.036038           0.034309   \n",
      "364                  -0.039719           0.034309   \n",
      "50                   -0.002903          -0.039493   \n",
      "\n",
      "     serum triglycerides levelglu  blood sugar level  \n",
      "64                      -0.019197           0.011349  \n",
      "196                     -0.033249           0.011349  \n",
      "142                      0.045601          -0.001078  \n",
      "390                      0.103292           0.073480  \n",
      "353                      0.132373           0.003064  \n",
      "..                            ...                ...  \n",
      "402                      0.015567           0.044485  \n",
      "319                      0.028661           0.061054  \n",
      "3                        0.022692          -0.009362  \n",
      "364                      0.014823           0.098333  \n",
      "50                      -0.021394           0.007207  \n",
      "\n",
      "[89 rows x 10 columns]\n"
     ]
    }
   ],
   "source": [
    "y_pred=classfd.predict(x_val) #assigning x_vathe value of validation to y_pred\n",
    "print(\"predicted model\\n\",y_pred)\n",
    "print(x_val)"
   ]
  },
  {
   "cell_type": "code",
   "execution_count": 15,
   "id": "106341c0",
   "metadata": {},
   "outputs": [
    {
     "name": "stdout",
     "output_type": "stream",
     "text": [
      "[[0 0 0 ... 0 0 0]\n",
      " [0 0 0 ... 0 0 0]\n",
      " [0 0 0 ... 0 0 0]\n",
      " ...\n",
      " [0 0 0 ... 0 0 0]\n",
      " [0 0 0 ... 0 0 0]\n",
      " [0 0 0 ... 0 0 0]]\n"
     ]
    }
   ],
   "source": [
    "from sklearn.metrics import confusion_matrix\n",
    "cm=confusion_matrix(y_test,y_pred)  #confusion the matrix of y_test with y_predict\n",
    "print (cm) "
   ]
  },
  {
   "cell_type": "code",
   "execution_count": 16,
   "id": "b458d4b8",
   "metadata": {},
   "outputs": [
    {
     "name": "stdout",
     "output_type": "stream",
     "text": [
      "0.011235955056179775\n"
     ]
    },
    {
     "name": "stderr",
     "output_type": "stream",
     "text": [
      "C:\\Users\\DELL\\AppData\\Local\\Packages\\PythonSoftwareFoundation.Python.3.9_qbz5n2kfra8p0\\LocalCache\\local-packages\\Python39\\site-packages\\sklearn\\metrics\\_classification.py:1386: UserWarning: Note that pos_label (set to 'positiv') is ignored when average != 'binary' (got 'micro'). You may use labels=[pos_label] to specify a single positive class.\n",
      "  warnings.warn(\n"
     ]
    }
   ],
   "source": [
    "from sklearn.metrics import f1_score\n",
    "print(f1_score(y_test,y_pred,pos_label=\"positiv\",average=\"micro\")) #calculating the accuracy score of the model between y_test and y_pred which points to x_val"
   ]
  },
  {
   "cell_type": "code",
   "execution_count": 17,
   "id": "e608fa35",
   "metadata": {},
   "outputs": [
    {
     "name": "stdout",
     "output_type": "stream",
     "text": [
      "0.011235955056179775\n"
     ]
    }
   ],
   "source": [
    "from sklearn.metrics import accuracy_score\n",
    "print(accuracy_score(y_test,y_pred))  #calculating the accuracy score of the model between y_test and y_pred which points to x_test"
   ]
  },
  {
   "cell_type": "markdown",
   "id": "42615834",
   "metadata": {},
   "source": [
    "Another Way to read this data"
   ]
  },
  {
   "cell_type": "code",
   "execution_count": 18,
   "id": "b9864937",
   "metadata": {},
   "outputs": [
    {
     "name": "stdout",
     "output_type": "stream",
     "text": [
      "R2 score = -0.39506972671100815\n"
     ]
    }
   ],
   "source": [
    "import sklearn.metrics as sm\n",
    "print(\"R2 score =\",sm.r2_score(y_test, y_pred))"
   ]
  },
  {
   "cell_type": "markdown",
   "metadata": {},
   "source": [
    "Linear Regression "
   ]
  },
  {
   "cell_type": "code",
   "execution_count": 19,
   "id": "d21e1677",
   "metadata": {},
   "outputs": [
    {
     "name": "stdout",
     "output_type": "stream",
     "text": [
      "Score= 0.5419894894683135\n"
     ]
    }
   ],
   "source": [
    "from sklearn import linear_model\n",
    "reg= linear_model.LinearRegression()\n",
    "reg.fit(x_train,y_train)\n",
    "print(\"Score= {}\".format(reg.score(x_test,y_test))) #calculating the accuracy score in linear regression model"
   ]
  },
  {
   "cell_type": "markdown",
   "id": "e62f35e1",
   "metadata": {},
   "source": [
    "Another Way to read this data"
   ]
  },
  {
   "cell_type": "code",
   "execution_count": 20,
   "id": "cf076af1",
   "metadata": {},
   "outputs": [
    {
     "name": "stdout",
     "output_type": "stream",
     "text": [
      "R2 score = -0.39506972671100815\n"
     ]
    }
   ],
   "source": [
    "import sklearn.metrics as sm\n",
    "print(\"R2 score =\", sm.r2_score(y_test, y_pred))"
   ]
  }
 ],
 "metadata": {
  "kernelspec": {
   "display_name": "Python 3.9.13 64-bit (microsoft store)",
   "language": "python",
   "name": "python3"
  },
  "language_info": {
   "codemirror_mode": {
    "name": "ipython",
    "version": 3
   },
   "file_extension": ".py",
   "mimetype": "text/x-python",
   "name": "python",
   "nbconvert_exporter": "python",
   "pygments_lexer": "ipython3",
   "version": "3.9.13"
  },
  "vscode": {
   "interpreter": {
    "hash": "970a2a4939579a4c22872227820a264ec023ee5692739211cbaca24386397975"
   }
  }
 },
 "nbformat": 4,
 "nbformat_minor": 5
}
